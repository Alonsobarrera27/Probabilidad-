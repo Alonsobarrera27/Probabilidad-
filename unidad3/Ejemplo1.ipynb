{
  "nbformat": 4,
  "nbformat_minor": 0,
  "metadata": {
    "colab": {
      "provenance": [],
      "authorship_tag": "ABX9TyNIPoip2GNfNsnNpSFvSefo",
      "include_colab_link": true
    },
    "kernelspec": {
      "name": "python3",
      "display_name": "Python 3"
    },
    "language_info": {
      "name": "python"
    }
  },
  "cells": [
    {
      "cell_type": "markdown",
      "metadata": {
        "id": "view-in-github",
        "colab_type": "text"
      },
      "source": [
        "<a href=\"https://colab.research.google.com/github/Alonsobarrera27/Probabilidad-/blob/main/unidad3/Ejemplo1.ipynb\" target=\"_parent\"><img src=\"https://colab.research.google.com/assets/colab-badge.svg\" alt=\"Open In Colab\"/></a>"
      ]
    },
    {
      "cell_type": "markdown",
      "source": [
        "![image](https://github.com/JoseGabriel-ITD/Probabilidad-y-Estadistica/blob/main/Cintilla2004.png?raw=true)\n",
        "\n",
        "## **Programacion orientada a objetos**\n",
        "\n",
        "\n",
        "**Ejercicio 1**\n",
        "\n",
        "\n",
        "## **Grupo 2Y**\n",
        "\n",
        "\n",
        "## **Unidad 3**\n",
        "\n",
        "### Docente: Jose Gabriel Rodriguez Rivas\n",
        "\n",
        "### Alumno: Jose Alonso Perez Barrera"
      ],
      "metadata": {
        "id": "ByQw0qljiRVt"
      }
    },
    {
      "cell_type": "code",
      "execution_count": null,
      "metadata": {
        "id": "X6ufEM-ChUkR"
      },
      "outputs": [],
      "source": [
        "import matplotlib.pyplot as plt\n",
        "#Valores de la variable aleatorios\n",
        "x=[5,6,7,8,9,10]\n",
        "p=[0.05,0.10,0.15,0.20,0.30,0.20]\n",
        "\n",
        "#verificar suma 1\n",
        "print(\"Suma de probabilidades\",sum(p))\n",
        "\n",
        "#Graficar Distribucion\n",
        "plt.stem(x,p)\n",
        "plt.title(\"Distribucion de probabilidada\")\n",
        "plt.xlabel(\"Calificacion\")\n",
        "plt.ylabel(\"Probabilidad\")\n",
        "plt.grid(True)\n",
        "plt.show()\n",
        ""
      ]
    }
  ]
}
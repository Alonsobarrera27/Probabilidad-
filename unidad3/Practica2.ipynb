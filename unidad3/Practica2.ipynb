{
  "nbformat": 4,
  "nbformat_minor": 0,
  "metadata": {
    "colab": {
      "provenance": [],
      "authorship_tag": "ABX9TyNJ6K1edHMHMSdug68Od4j0",
      "include_colab_link": true
    },
    "kernelspec": {
      "name": "python3",
      "display_name": "Python 3"
    },
    "language_info": {
      "name": "python"
    }
  },
  "cells": [
    {
      "cell_type": "markdown",
      "metadata": {
        "id": "view-in-github",
        "colab_type": "text"
      },
      "source": [
        "<a href=\"https://colab.research.google.com/github/Alonsobarrera27/Probabilidad-/blob/main/unidad3/Practica2.ipynb\" target=\"_parent\"><img src=\"https://colab.research.google.com/assets/colab-badge.svg\" alt=\"Open In Colab\"/></a>"
      ]
    },
    {
      "cell_type": "markdown",
      "source": [
        "![image](https://github.com/JoseGabriel-ITD/Probabilidad-y-Estadistica/blob/main/Cintilla2004.png?raw=true)\n",
        "\n",
        "## **Programacion orientada a objetos**\n",
        "\n",
        "\n",
        "**Ejercicios de valor esperado**\n",
        "\n",
        "\n",
        "## **Grupo 2Y**\n",
        "\n",
        "\n",
        "## **Unidad 3**\n",
        "\n",
        "### Docente: Jose Gabriel Rodriguez Rivas\n",
        "\n",
        "### Alumno: Jose Alonso Perez Barrera"
      ],
      "metadata": {
        "id": "O8Bh0TKulK3i"
      }
    },
    {
      "cell_type": "code",
      "execution_count": 1,
      "metadata": {
        "colab": {
          "base_uri": "https://localhost:8080/"
        },
        "id": "B7y4EetSk9FU",
        "outputId": "cb92c35c-c5a7-4bcd-fbe9-00617a9c3c92"
      },
      "outputs": [
        {
          "output_type": "stream",
          "name": "stdout",
          "text": [
            "x = 5, P = 0.05, x*p = 0.25\n",
            "x = 6, P = 0.1, x*p = 0.60\n",
            "x = 7, P = 0.2, x*p = 1.40\n",
            "x = 8, P = 0.3, x*p = 2.40\n",
            "x = 9, P = 0.25, x*p = 2.25\n",
            "x = 10, P = 0.1, x*p = 1.00\n",
            "\n",
            "Valor esperado (Esperanza): 7.90\n"
          ]
        }
      ],
      "source": [
        "x = [5, 6, 7, 8, 9, 10] # Valores posibles de la variable aleatoria\n",
        "p = [0.05, 0.10, 0.20, 0.30, 0.25, 0.10] # Probabilidades correspondientes\n",
        "\n",
        "# Inicializar una variable para acumular la suma\n",
        "valor_esperado = 0\n",
        "\n",
        "# Recorrer los valores y sus probabilidades\n",
        "for i in range(len(x)):\n",
        "    xi = x[i]  # valor de la variable aleatoria\n",
        "    pi = p[i]  # probabilidad de ese valor\n",
        "\n",
        "    # multiplicar valor por su probabilidad\n",
        "    producto = xi * pi\n",
        "\n",
        "    # sumar al acumuladora\n",
        "    valor_esperado += producto\n",
        "\n",
        "    # Mostrar cada paso\n",
        "    print(f\"x = {xi}, P = {pi}, x*p = {producto:.2f}\")\n",
        "\n",
        "# Mostrar resultado final\n",
        "print(f\"\\nValor esperado (Esperanza): {valor_esperado:.2f}\")"
      ]
    }
  ]
}
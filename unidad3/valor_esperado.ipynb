{
  "nbformat": 4,
  "nbformat_minor": 0,
  "metadata": {
    "colab": {
      "provenance": [],
      "authorship_tag": "ABX9TyN3f7uzudlTfeX3bkbbVW+f",
      "include_colab_link": true
    },
    "kernelspec": {
      "name": "python3",
      "display_name": "Python 3"
    },
    "language_info": {
      "name": "python"
    }
  },
  "cells": [
    {
      "cell_type": "markdown",
      "metadata": {
        "id": "view-in-github",
        "colab_type": "text"
      },
      "source": [
        "<a href=\"https://colab.research.google.com/github/Alonsobarrera27/Probabilidad-/blob/main/unidad3/valor_esperado.ipynb\" target=\"_parent\"><img src=\"https://colab.research.google.com/assets/colab-badge.svg\" alt=\"Open In Colab\"/></a>"
      ]
    },
    {
      "cell_type": "markdown",
      "source": [
        "![image](https://github.com/JoseGabriel-ITD/Probabilidad-y-Estadistica/blob/main/Cintilla2004.png?raw=true)\n",
        "\n",
        "## **Programacion orientada a objetos**\n",
        "\n",
        "\n",
        "**Ejercicios de valor esperado**\n",
        "\n",
        "\n",
        "## **Grupo 2Y**\n",
        "\n",
        "\n",
        "## **Unidad 3**\n",
        "\n",
        "### Docente: Jose Gabriel Rodriguez Rivas\n",
        "\n",
        "### Alumno: Jose Alonso Perez Barrera"
      ],
      "metadata": {
        "id": "pu9jsBetjxHu"
      }
    },
    {
      "cell_type": "code",
      "execution_count": null,
      "metadata": {
        "id": "i8eHBTEqjwO1"
      },
      "outputs": [],
      "source": [
        "\n",
        "x = [5,6,7,8,9,10] #Valores posibles de la variable aleatoria\n",
        "p = [0.05,0.10,0.20,0.30,0.25,0.10] #Probabilidades correspondientes"
      ]
    },
    {
      "cell_type": "code",
      "source": [
        "\n",
        "#Inicializar una variable para acumular la suma\n",
        "valor_esperado =0"
      ],
      "metadata": {
        "id": "q1lsujjCkAUb"
      },
      "execution_count": null,
      "outputs": []
    },
    {
      "cell_type": "code",
      "source": [
        "\n",
        "#Recorrer los valores y sus probabilidades\n",
        "for i in range(len(x)):\n",
        "  xi = x[i] #valor de la variable aleatoria\n",
        "  pi = p[i] #Probabilidad de ese valor\n",
        "  producto = xi * pi   #Multiplicar valor de su probabilidad\n",
        "  valor_esperado +=producto  #sumar valor por su probabilidad\n",
        "  #Mostrar cada paso\n",
        "  print(f\"x ={xi},p ={pi},x*p={producto:.2f}\")\n",
        "  #Mostrar resultado final\n",
        "  print(f\"\\nValor esperado (Esperanza): {valor_esperado:.2f}\")"
      ],
      "metadata": {
        "id": "_V7AQymIkIpA"
      },
      "execution_count": null,
      "outputs": []
    }
  ]
}
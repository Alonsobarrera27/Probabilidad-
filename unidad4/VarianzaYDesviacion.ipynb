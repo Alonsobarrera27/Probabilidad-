{
  "nbformat": 4,
  "nbformat_minor": 0,
  "metadata": {
    "colab": {
      "provenance": [],
      "authorship_tag": "ABX9TyMbBcVpXMe2ilMjn9HlNGUo",
      "include_colab_link": true
    },
    "kernelspec": {
      "name": "python3",
      "display_name": "Python 3"
    },
    "language_info": {
      "name": "python"
    }
  },
  "cells": [
    {
      "cell_type": "markdown",
      "metadata": {
        "id": "view-in-github",
        "colab_type": "text"
      },
      "source": [
        "<a href=\"https://colab.research.google.com/github/Alonsobarrera27/Probabilidad-/blob/main/unidad4/VarianzaYDesviacion.ipynb\" target=\"_parent\"><img src=\"https://colab.research.google.com/assets/colab-badge.svg\" alt=\"Open In Colab\"/></a>"
      ]
    },
    {
      "cell_type": "markdown",
      "source": [
        "![image](https://github.com/JoseGabriel-ITD/Probabilidad-y-Estadistica/blob/main/Cintilla2004.png?raw=true)\n",
        "\n",
        "## **Programacion orientada a objetos**\n",
        "\n",
        "\n",
        "**VARIANZA Y DESVIACION**\n",
        "\n",
        "\n",
        "## **Grupo 2Y**\n",
        "\n",
        "\n",
        "## **Unidad 3**\n",
        "\n",
        "### Docente: Jose Gabriel Rodriguez Rivas\n",
        "\n",
        "### Alumno: Jose Alonso Perez Barrera"
      ],
      "metadata": {
        "id": "zsCGxUefuwoW"
      }
    },
    {
      "cell_type": "code",
      "execution_count": 1,
      "metadata": {
        "id": "PbMVpObDuvlb"
      },
      "outputs": [],
      "source": [
        "\n",
        "import math\n",
        "x= [5, 6 , 7, 8, 9, 10]\n",
        "p= [0.05 ,0.10 , 0.20 ,0.30 ,0.25, 0.10]"
      ]
    },
    {
      "cell_type": "code",
      "source": [
        "# Calcular E(X)\n",
        "esperanza = 0\n",
        "for i in range(len(x)):\n",
        "    esperanza += x[i] * p[i]"
      ],
      "metadata": {
        "id": "tRNMtyMLuwAn"
      },
      "execution_count": 2,
      "outputs": []
    },
    {
      "cell_type": "code",
      "source": [
        "\n",
        "# Calcular E(X^2)\n",
        "esperanza_cuadrado = 0\n",
        "for i in range(len(x)):\n",
        "    esperanza_cuadrado += (x[i]**2) * p[i]"
      ],
      "metadata": {
        "id": "c-Qt9YhlvAjt"
      },
      "execution_count": 3,
      "outputs": []
    },
    {
      "cell_type": "code",
      "source": [
        "\n",
        "#Calcular varianza y desviacion estandar\n",
        "varianza = esperanza_cuadrado - (esperanza**2)\n",
        "desviacion_estandar = math.sqrt(varianza)"
      ],
      "metadata": {
        "id": "CPnbmpkyvCsf"
      },
      "execution_count": 4,
      "outputs": []
    },
    {
      "cell_type": "code",
      "source": [
        "# Mostrar Resultados\n",
        "print(f\"E(X) = {esperanza:.2f}\")\n",
        "print(f\"E(X^2) = {esperanza_cuadrado:.2f}\")\n",
        "print(f\"Varianza = {varianza:.2f}\")\n",
        "print(f\"Desviacion estandar = {desviacion_estandar:.2f}\")"
      ],
      "metadata": {
        "id": "19-yLN7GvGpg",
        "outputId": "a745c220-fadb-439e-8896-f6fc35bd7de2",
        "colab": {
          "base_uri": "https://localhost:8080/"
        }
      },
      "execution_count": 5,
      "outputs": [
        {
          "output_type": "stream",
          "name": "stdout",
          "text": [
            "E(X) = 7.90\n",
            "E(X^2) = 64.10\n",
            "Varianza = 1.69\n",
            "Desviacion estandar = 1.30\n"
          ]
        }
      ]
    }
  ]
}
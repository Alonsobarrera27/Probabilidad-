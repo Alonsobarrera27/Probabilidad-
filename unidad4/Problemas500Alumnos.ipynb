{
  "nbformat": 4,
  "nbformat_minor": 0,
  "metadata": {
    "colab": {
      "provenance": [],
      "authorship_tag": "ABX9TyNEdoec+ndonLcn+styDnRo",
      "include_colab_link": true
    },
    "kernelspec": {
      "name": "python3",
      "display_name": "Python 3"
    },
    "language_info": {
      "name": "python"
    }
  },
  "cells": [
    {
      "cell_type": "markdown",
      "metadata": {
        "id": "view-in-github",
        "colab_type": "text"
      },
      "source": [
        "<a href=\"https://colab.research.google.com/github/Alonsobarrera27/Probabilidad-/blob/main/unidad4/Problemas500Alumnos.ipynb\" target=\"_parent\"><img src=\"https://colab.research.google.com/assets/colab-badge.svg\" alt=\"Open In Colab\"/></a>"
      ]
    },
    {
      "cell_type": "markdown",
      "source": [
        "![image](https://github.com/JoseGabriel-ITD/Probabilidad-y-Estadistica/blob/main/Cintilla2004.png?raw=true)\n",
        "\n",
        "## **Programacion orientada a objetos**\n",
        "\n",
        "\n",
        "** PROBLEMA 500 ALUMNOS**\n",
        "\n",
        "\n",
        "## **Grupo 2Y**\n",
        "\n",
        "\n",
        "## **Unidad 3**\n",
        "\n",
        "### Docente: Jose Gabriel Rodriguez Rivas\n",
        "\n",
        "### Alumno: Jose Alonso Perez Barrera"
      ],
      "metadata": {
        "id": "XluWEIxGt94z"
      }
    },
    {
      "cell_type": "code",
      "execution_count": null,
      "metadata": {
        "id": "TuhHhStat8qA"
      },
      "outputs": [],
      "source": [
        "import scipy.stats as stats"
      ]
    },
    {
      "cell_type": "code",
      "source": [
        "# Generar datos para la distribucion normal\n",
        "\n",
        "media = 70 # Media\n",
        "desv_std = 4 # Desviavion estandar\n",
        "num_datos = 500"
      ],
      "metadata": {
        "id": "9AiP53QjuOiL"
      },
      "execution_count": null,
      "outputs": []
    },
    {
      "cell_type": "markdown",
      "source": [
        "**La probabilidad de estudiantes que pesan más de 68 y menos de 72 kg**"
      ],
      "metadata": {
        "id": "WRmINlzhuUj3"
      }
    },
    {
      "cell_type": "code",
      "source": [
        "\n",
        "prob_68 = stats.norm.cdf(68, media, desv_std)\n",
        "prob_72 = stats.norm.cdf(72, media, desv_std)\n",
        "\n",
        "probabilidad = prob_72 - prob_68"
      ],
      "metadata": {
        "id": "Ynw2afAEuZbn"
      },
      "execution_count": null,
      "outputs": []
    },
    {
      "cell_type": "markdown",
      "source": [
        "**Cuantos estudiantes pesan más de 68 y menos de 72 kg**"
      ],
      "metadata": {
        "id": "wzkM6sWFubtJ"
      }
    },
    {
      "cell_type": "code",
      "source": [
        "\n",
        "estudiantes = probabilidad * num_datos\n",
        "\n",
        "# Mostrar resultados\n",
        "print(f\"Probabilidad de que un estudiante pese entre 68 y 72 kg: {probabilidad:.3f}\")\n",
        "print(f\"Número de estudiantes que pesan entre 68 y 72 kg: {estudiantes:.2f}\")"
      ],
      "metadata": {
        "id": "ganMtAYSuiW3"
      },
      "execution_count": null,
      "outputs": []
    }
  ]
}
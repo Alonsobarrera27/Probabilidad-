{
  "nbformat": 4,
  "nbformat_minor": 0,
  "metadata": {
    "colab": {
      "provenance": [],
      "authorship_tag": "ABX9TyOuahKNY9BLDfXeCcFnWAwd",
      "include_colab_link": true
    },
    "kernelspec": {
      "name": "python3",
      "display_name": "Python 3"
    },
    "language_info": {
      "name": "python"
    }
  },
  "cells": [
    {
      "cell_type": "markdown",
      "metadata": {
        "id": "view-in-github",
        "colab_type": "text"
      },
      "source": [
        "<a href=\"https://colab.research.google.com/github/Alonsobarrera27/Probabilidad-/blob/main/unidad4/DistribucionBinominal.ipynb\" target=\"_parent\"><img src=\"https://colab.research.google.com/assets/colab-badge.svg\" alt=\"Open In Colab\"/></a>"
      ]
    },
    {
      "cell_type": "markdown",
      "source": [
        "![image](https://github.com/JoseGabriel-ITD/Probabilidad-y-Estadistica/blob/main/Cintilla2004.png?raw=true)\n",
        "\n",
        "## **Probabilidad y estadistica**\n",
        "\n",
        "\n",
        "**Distribucion Binomial**\n",
        "\n",
        "\n",
        "## **Grupo 2Y**\n",
        "\n",
        "\n",
        "## **Unidad 4**\n",
        "\n",
        "### Docente: Jose Gabriel Rodriguez Rivas\n",
        "\n",
        "### Alumno: Jose Alonso Perez Barrera"
      ],
      "metadata": {
        "id": "fyUT6BMKoXLq"
      }
    },
    {
      "cell_type": "markdown",
      "source": [
        "**DOSTRIBUCION BINOMIAL**\n",
        "\n",
        "\n",
        "La probabilidad de éxito de una vacuna es de 0.83. Calcular la probabilidad de que una vez administrada a 16 pacientes NINGUNO sufra la enfermedad."
      ],
      "metadata": {
        "id": "bCQ9FIfGogd4"
      }
    },
    {
      "cell_type": "code",
      "source": [
        "from scipy.stats import binom\n",
        "\n",
        "# Parametros de lo distribucion binominal\n",
        "probabilidad_exito = 0.83\n",
        "num_pacientes = 16\n",
        "x = 16 # Numero de exitos\n",
        "\n",
        "# Calcular la probabilidad de que ningun paciente sufra la enfermedad\n",
        "probabilidad_ningun_enfermo = binom.pmf(x, num_pacientes, probabilidad_exito)\n",
        "\n",
        "print(\"La probabilidad de que ningun paciente sufra la enfermedad es:\", probabilidad_ningun_enfermo)\n",
        ""
      ],
      "metadata": {
        "colab": {
          "base_uri": "https://localhost:8080/"
        },
        "id": "I22N3U-uoxvX",
        "outputId": "93358473-9fd1-4df8-8bcc-868318f95a28"
      },
      "execution_count": 2,
      "outputs": [
        {
          "output_type": "stream",
          "name": "stdout",
          "text": [
            "La probabilidad de que ningun paciente sufra la enfermedad es: 0.0507282029895386\n"
          ]
        }
      ]
    },
    {
      "cell_type": "markdown",
      "source": [
        "La probabilidad de éxito de una vacuna es de 0.83. Calcular la probabilidad de que una vez administrada a 16 pacientes TODOS sufra la enfermedad."
      ],
      "metadata": {
        "id": "jJnXjrFhpGvS"
      }
    },
    {
      "cell_type": "code",
      "source": [
        "from scipy.stats import binom\n",
        "\n",
        "# Parametros de lo distribucion binominal\n",
        "probabilidad_exito = 0.83\n",
        "num_pacientes = 16\n",
        "x = 0\n",
        "\n",
        "#Calcular la probabilidad de que todos los pacientes sufran la enfermedad\n",
        "probabilidad_todos_enfermos = binom.pmf(x, num_pacientes, probabilidad_exito)\n",
        "\n",
        "print(\"La probabilidad de que todos los pacientes sufran la enfermedad es:\", probabilidad_todos_enfermos)\n",
        ""
      ],
      "metadata": {
        "colab": {
          "base_uri": "https://localhost:8080/"
        },
        "id": "aZ4TeHvypNcT",
        "outputId": "ca1677db-5ea5-4645-db6f-1029a8d2a97e"
      },
      "execution_count": 3,
      "outputs": [
        {
          "output_type": "stream",
          "name": "stdout",
          "text": [
            "La probabilidad de que todos los pacientes sufran la enfermedad es: 4.866119187566701e-13\n"
          ]
        }
      ]
    },
    {
      "cell_type": "markdown",
      "source": [
        "**EJERCICIO 2**"
      ],
      "metadata": {
        "id": "_25_6sVapUkI"
      }
    },
    {
      "cell_type": "markdown",
      "source": [
        "-Para una variable aleatoria binominal con n=10 y una probabilidad de 0.10 -Encuentra la probabilidad de la variable aleatoria x=2. Realizar un programa en python que resuelva el problema usando una fuente de probabilidad binomial"
      ],
      "metadata": {
        "id": "0JxxzFxgpnO3"
      }
    },
    {
      "cell_type": "code",
      "source": [
        "from scipy.stats import binom\n",
        "\n",
        "# Parametros de lo distribucion binominal\n",
        "n = 10\n",
        "p = 0.10\n",
        "x = 2\n",
        "\n",
        "# Calcular la probabilidad de la variable aleatoria x=2\n",
        "probabilidad_x_2 = binom.pmf(x, n, p)\n",
        "\n",
        "print(\"La probabilidad de que la variable aleatoria x sea igual a 2 es:\", probabilidad_x_2)"
      ],
      "metadata": {
        "colab": {
          "base_uri": "https://localhost:8080/"
        },
        "id": "VJ6PdSbipqVs",
        "outputId": "b2b49c2f-e6fa-4ea7-ea6b-37a0cf5b1e0f"
      },
      "execution_count": 4,
      "outputs": [
        {
          "output_type": "stream",
          "name": "stdout",
          "text": [
            "La probabilidad de que la variable aleatoria x sea igual a 2 es: 0.19371024450000007\n"
          ]
        }
      ]
    },
    {
      "cell_type": "markdown",
      "source": [
        "**EJERCICIO 3**"
      ],
      "metadata": {
        "id": "vh7dzchvp1mm"
      }
    },
    {
      "cell_type": "code",
      "source": [
        "import numpy as np\n",
        "import matplotlib.pyplot as plt\n",
        "from scipy.stats import binom\n",
        "\n",
        "\n",
        "# Parametro de la distribucion binomial\n",
        "n = 10\n",
        "p = 0.10\n",
        "\n",
        "# Calcular  las probabilidades para cada valor de x de 0 a 10\n",
        "valores_x = np.arange(0, n+1)\n",
        "probabilidades_x = [binom.pmf(x, n, p) for x in valores_x]\n",
        "\n",
        "# Imprimir la tabla de valores de x y sus probabilidades\n",
        "print(\"Valores de x\\tProbabilidades\")\n",
        "for x, probabilidad in zip(valores_x, probabilidades_x):\n",
        "    print(f\"{x}\\t\\t{probabilidad}\")\n",
        ""
      ],
      "metadata": {
        "colab": {
          "base_uri": "https://localhost:8080/"
        },
        "id": "JHJFDbqLp-A5",
        "outputId": "f806a3db-273f-4d53-b3c0-85b2b01e852c"
      },
      "execution_count": 5,
      "outputs": [
        {
          "output_type": "stream",
          "name": "stdout",
          "text": [
            "Valores de x\tProbabilidades\n",
            "0\t\t0.34867844009999993\n",
            "1\t\t0.38742048899999965\n",
            "2\t\t0.19371024450000007\n",
            "3\t\t0.05739562799999998\n",
            "4\t\t0.01116026100000001\n",
            "5\t\t0.0014880347999999995\n",
            "6\t\t0.00013778100000000007\n",
            "7\t\t8.748000000000003e-06\n",
            "8\t\t3.6449999999999996e-07\n",
            "9\t\t8.999999999999995e-09\n",
            "10\t\t1.0000000000000006e-10\n"
          ]
        }
      ]
    },
    {
      "cell_type": "code",
      "source": [
        "# Graficar el histograma de la distribucion binomial\n",
        "plt.figure(figsize=(8, 6))\n",
        "plt.bar(valores_x, probabilidades_x, color=\"skyblue\")\n",
        "plt.title(\"Distribucion Binomial\")\n",
        "plt.xlabel(\"Valores de x\")\n",
        "plt.ylabel(\"Probabilidades\")\n",
        "plt.grid(True)\n",
        "plt.show()\n",
        ""
      ],
      "metadata": {
        "id": "HlBLE9toqO0h"
      },
      "execution_count": null,
      "outputs": []
    }
  ]
}
{
  "nbformat": 4,
  "nbformat_minor": 0,
  "metadata": {
    "colab": {
      "provenance": [],
      "authorship_tag": "ABX9TyNKbLE2HSKN+WiU869FFTb7",
      "include_colab_link": true
    },
    "kernelspec": {
      "name": "python3",
      "display_name": "Python 3"
    },
    "language_info": {
      "name": "python"
    }
  },
  "cells": [
    {
      "cell_type": "markdown",
      "metadata": {
        "id": "view-in-github",
        "colab_type": "text"
      },
      "source": [
        "<a href=\"https://colab.research.google.com/github/Alonsobarrera27/Probabilidad-/blob/main/unidad4/PROBLEMAS1Y2.ipynb\" target=\"_parent\"><img src=\"https://colab.research.google.com/assets/colab-badge.svg\" alt=\"Open In Colab\"/></a>"
      ]
    },
    {
      "cell_type": "markdown",
      "source": [
        "![image](https://github.com/JoseGabriel-ITD/Probabilidad-y-Estadistica/blob/main/Cintilla2004.png?raw=true)\n",
        "\n",
        "## **Probabilidad y estadistica**\n",
        "\n",
        "\n",
        "**PROBLEMAS 1 Y 2**\n",
        "\n",
        "\n",
        "## **Grupo 2Y**\n",
        "\n",
        "\n",
        "## **Unidad 4**\n",
        "\n",
        "### Docente: Jose Gabriel Rodriguez Rivas\n",
        "\n",
        "### Alumno: Jose Alonso Perez Barrera"
      ],
      "metadata": {
        "id": "FAuUQVoAs2q_"
      }
    },
    {
      "cell_type": "markdown",
      "source": [
        "Problema 1\n",
        "\n",
        "Tipo de distribución: Poisson porque se trata del número de eventos de personas ingresadas, que ocurren en un intervalo de tiempo que es un día, con una tasa promedio conocida λ = 5.\n",
        "\n",
        "Formula P(X = x) = \\frac{e^{-λ} λ^x}{x!}\n",
        "\n",
        "Datos λ = 5 a) x = 2 b) x > 10"
      ],
      "metadata": {
        "id": "r4-GORpes-D_"
      }
    },
    {
      "cell_type": "code",
      "execution_count": 6,
      "metadata": {
        "id": "0Se0g7MqszEh"
      },
      "outputs": [],
      "source": [
        "\n",
        "# PROBLEMA 1 - Distribución de Poisson\n",
        "from math import exp, factorial\n",
        "from scipy.stats import poisson"
      ]
    },
    {
      "cell_type": "code",
      "source": [
        "# Parámetros\n",
        "lamb = 5  # Media de Poisson"
      ],
      "metadata": {
        "id": "4IAQYSGttDrl"
      },
      "execution_count": 7,
      "outputs": []
    },
    {
      "cell_type": "code",
      "source": [
        "\n",
        "# a) Probabilidad de que X = 2\n",
        "x1 = 2\n",
        "p_x2 = poisson.pmf(x1, lamb)\n",
        "print(\"Problema 1:\")\n",
        "print(f\"a) P(X = 2) = {p_x2:.5f}\")"
      ],
      "metadata": {
        "colab": {
          "base_uri": "https://localhost:8080/"
        },
        "id": "3s6-cnqYtFoz",
        "outputId": "f56e9ff1-9e5a-442c-d3df-458600d20ee3"
      },
      "execution_count": 8,
      "outputs": [
        {
          "output_type": "stream",
          "name": "stdout",
          "text": [
            "Problema 1:\n",
            "a) P(X = 2) = 0.08422\n"
          ]
        }
      ]
    },
    {
      "cell_type": "code",
      "source": [
        "\n",
        "# b) Probabilidad de que X > 10\n",
        "p_mayor10 = 1 - poisson.cdf(10, lamb)\n",
        "print(f\"b) P(X > 10) = {p_mayor10:.5f}\")\n",
        "\n",
        "if p_mayor10 < 0.05:\n",
        "    print(\" No es muy probable que exceda de 10.\")\n",
        "else:\n",
        "    print(\" Es probable que exceda de 10.\")"
      ],
      "metadata": {
        "colab": {
          "base_uri": "https://localhost:8080/"
        },
        "id": "3yNZ9PVttIht",
        "outputId": "ba4ffcb3-d16d-4666-f81c-7ec3903e3285"
      },
      "execution_count": 9,
      "outputs": [
        {
          "output_type": "stream",
          "name": "stdout",
          "text": [
            "b) P(X > 10) = 0.01370\n",
            " No es muy probable que exceda de 10.\n"
          ]
        }
      ]
    },
    {
      "cell_type": "markdown",
      "source": [
        "Problema 2\n",
        " Tipo de distribución:Binomial Porque se tienen un número fijo de ensayos n = 1000 motores, dos posibles resultados que son defectuoso o no y probabilidad constante de defecto p = 0.001.\n",
        "\n",
        "Formula P(X = x) = \\binom{n}{x} p^x (1-p)^{n-x}\n",
        "\n",
        "Datos n = 1000 p = 0.001 x = 0, 3, 4"
      ],
      "metadata": {
        "id": "TsLP2gVAtZDj"
      }
    },
    {
      "cell_type": "code",
      "source": [
        "\n",
        "# PROBLEMA 2 - Distribución Binomial\n",
        "from scipy.stats import binom\n",
        "# Parámetros\n",
        "n = 1000\n",
        "p = 0.001\n",
        "\n",
        "\n"
      ],
      "metadata": {
        "id": "yVXcNkUotjvv"
      },
      "execution_count": 10,
      "outputs": []
    },
    {
      "cell_type": "code",
      "source": [
        "#a) Ninguno defectuoso (x = 0)\n",
        "p0 = binom.pmf(0, n, p)\n",
        "\n",
        "#b) Tres defectuosos (x = 3)\n",
        "p3 = binom.pmf(3, n, p)\n",
        "\n",
        "#c) Cuatro defectuosos (x = 4)\n",
        "p4 = binom.pmf(4, n, p)\n",
        ""
      ],
      "metadata": {
        "id": "m4pWVrsetmKa"
      },
      "execution_count": 11,
      "outputs": []
    },
    {
      "cell_type": "code",
      "source": [
        "\n",
        "print(\"\\nPROBLEMA 2:\")\n",
        "print(f\"a) P(X = 0) = {p0:.6f}\")\n",
        "print(f\"b) P(X = 3) = {p3:.6f}\")\n",
        "print(f\"c) P(X = 4) = {p4:.6f}\")\n"
      ],
      "metadata": {
        "colab": {
          "base_uri": "https://localhost:8080/"
        },
        "id": "w_IiAliItoKh",
        "outputId": "6ba649de-6f99-4777-c7a8-bba412e02d24"
      },
      "execution_count": 12,
      "outputs": [
        {
          "output_type": "stream",
          "name": "stdout",
          "text": [
            "\n",
            "PROBLEMA 2:\n",
            "a) P(X = 0) = 0.367695\n",
            "b) P(X = 3) = 0.061283\n",
            "c) P(X = 4) = 0.015290\n"
          ]
        }
      ]
    },
    {
      "cell_type": "code",
      "source": [
        "# Interpretación simple\n",
        "print(\"\\nInterpretación:\")\n",
        "print(\"Es muy probable que ninguno sea defectuoso.\")\n",
        "print(\"Las probabilidades de que 3 o 4 sean defectuosos son pequeñas.\")\n",
        ""
      ],
      "metadata": {
        "colab": {
          "base_uri": "https://localhost:8080/"
        },
        "id": "HCwAjDNVtroX",
        "outputId": "1c79f5fd-3549-4eab-de27-537eadcc5ee1"
      },
      "execution_count": 13,
      "outputs": [
        {
          "output_type": "stream",
          "name": "stdout",
          "text": [
            "\n",
            "Interpretación:\n",
            "Es muy probable que ninguno sea defectuoso.\n",
            "Las probabilidades de que 3 o 4 sean defectuosos son pequeñas.\n"
          ]
        }
      ]
    }
  ]
}